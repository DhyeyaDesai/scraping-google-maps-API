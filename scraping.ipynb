{
 "cells": [
  {
   "cell_type": "markdown",
   "metadata": {},
   "source": [
    "# Scraping of location and details using Google Maps API\n",
    "\n",
    "## Safe Spots\n",
    "\n",
    "Code here demonstrates collecting details of Delhi hospitals. You'll need to get an API key from https://developers.google.com/places/web-service/intro.\n"
   ]
  },
  {
   "cell_type": "markdown",
   "metadata": {},
   "source": [
    "## Google Maps API\n",
    "\n",
    "The API allows search to be scripted both by -\n",
    "1. Specifying relevant name of the location\n",
    "2. Specifying the location co-ordinates (latitude, longitude) as well as the radius from the location within which the spots need be to located \n",
    "\n",
    "Since details for a number of cities required to be scraped, the former format was followed here. The request response is in JSON format. \n",
    "#### Google pins a \"place ID\" to every location embedded in its maps. These ID's were first collected, and later searched in Google Places Search to gather the details.\n",
    "\n",
    "url=\"https://maps.googleapis.com/maps/api/place/textsearch/json?query=delhi+hospital&key=\"+key\n"
   ]
  },
  {
   "cell_type": "code",
   "execution_count": 3,
   "metadata": {},
   "outputs": [],
   "source": [
    "import pandas as pd\n",
    "import requests\n",
    "\n",
    "key=\"<insert your Google Maps API key here>\"\n",
    "\n",
    "i=0\n",
    "\n",
    "url=\"https://maps.googleapis.com/maps/api/place/textsearch/json?query=delhi+hospital&key=\"+key\n"
   ]
  },
  {
   "cell_type": "markdown",
   "metadata": {},
   "source": [
    "#### The limit set by Google on free scraping of its search output is 60 results. Requests per week are also restricteed per key.\n",
    "\n",
    "A single page displays 20 search results, hence the token for the next page found in 'next_page_token' key in the JSON needs to be extracted and appended to the URL to move on to next page.\n",
    "\n",
    "(I tried putting this in a loop but the requests didn't seem to work, so I've delineated the step-by-step iterations)"
   ]
  },
  {
   "cell_type": "code",
   "execution_count": 4,
   "metadata": {},
   "outputs": [
    {
     "ename": "KeyError",
     "evalue": "'next_page_token'",
     "output_type": "error",
     "traceback": [
      "\u001b[1;31m---------------------------------------------------------------------------\u001b[0m",
      "\u001b[1;31mKeyError\u001b[0m                                  Traceback (most recent call last)",
      "\u001b[1;32m<ipython-input-4-316093557031>\u001b[0m in \u001b[0;36m<module>\u001b[1;34m()\u001b[0m\n\u001b[0;32m      9\u001b[0m \u001b[0mnextpagetoken\u001b[0m\u001b[1;33m=\u001b[0m\u001b[1;33m[\u001b[0m\u001b[1;33m]\u001b[0m\u001b[1;33m\u001b[0m\u001b[0m\n\u001b[0;32m     10\u001b[0m \u001b[1;33m\u001b[0m\u001b[0m\n\u001b[1;32m---> 11\u001b[1;33m \u001b[0mnextpagetoken\u001b[0m\u001b[1;33m=\u001b[0m\u001b[0mout\u001b[0m\u001b[1;33m[\u001b[0m\u001b[1;34m'next_page_token'\u001b[0m\u001b[1;33m]\u001b[0m\u001b[1;33m\u001b[0m\u001b[0m\n\u001b[0m\u001b[0;32m     12\u001b[0m \u001b[1;33m\u001b[0m\u001b[0m\n\u001b[0;32m     13\u001b[0m \u001b[1;31m# URL for the second page\u001b[0m\u001b[1;33m\u001b[0m\u001b[1;33m\u001b[0m\u001b[0m\n",
      "\u001b[1;31mKeyError\u001b[0m: 'next_page_token'"
     ]
    }
   ],
   "source": [
    "\n",
    "# PAGE RESULT - ONE\n",
    "# Search Results 1-20\n",
    "r=requests.get(url)\n",
    "out=r.json()\n",
    "\n",
    "# Extract the place ID's from the dictionary so that their details can be scraped\n",
    "id=[d['place_id'] for d in out['results']] \n",
    "nextpagetoken=[]\n",
    "    \n",
    "nextpagetoken=out['next_page_token']\n",
    "\n",
    "# URL for the second page\n",
    "url=\"https://maps.googleapis.com/maps/api/place/textsearch/json?query=delhi+hospital&key=\"+key+\"&pagetoken=\"+nextpagetoken\n",
    "\n",
    "#PAGE RESULT - TWO\n",
    "#Search Results 21-40\n",
    "r=requests.get(url)\n",
    "out=r.json()\n",
    "\n",
    "id1=[d['place_id'] for d in out['results']] \n",
    "nextpagetoken=[]\n",
    "    \n",
    "nextpagetoken=out['next_page_token']\n",
    "\n",
    "# URL for the third page\n",
    "url=\"https://maps.googleapis.com/maps/api/place/textsearch/json?query=delhi+hospital&key=\"+key+\"&pagetoken=\"+nextpagetoken\n",
    "\n",
    "# PAGE RESULT - THREE\n",
    "# Search Results 41-60\n",
    "r=requests.get(url)\n",
    "out=r.json()\n",
    "id2=[d['place_id'] for d in out['results']]\n"
   ]
  },
  {
   "cell_type": "markdown",
   "metadata": {},
   "source": [
    "Now, to make a list of all the 60 place ID's we've gathered."
   ]
  },
  {
   "cell_type": "code",
   "execution_count": null,
   "metadata": {},
   "outputs": [],
   "source": [
    "\n",
    "id=id+id1+id2\n"
   ]
  },
  {
   "cell_type": "markdown",
   "metadata": {},
   "source": [
    "### Extracting necessary information from the Google Maps search result\n",
    "\n",
    "For the Safecity purpose, the details scraped were - \n",
    "1. Name of the police station/hospital\n",
    "2. Address\n",
    "3. Location co-ordinates (Latitude, Longitude)\n",
    "4. Contact Number\n",
    "5. Website \n",
    "6. Google Rating"
   ]
  },
  {
   "cell_type": "markdown",
   "metadata": {},
   "source": [
    "Details for a particular location embedded in Google Maps can be found by using its place ID :\n",
    "\n",
    "url=\"https://maps.googleapis.com/maps/api/place/details/json?placeid=\"+d+\"&key=\"+key\n"
   ]
  },
  {
   "cell_type": "code",
   "execution_count": null,
   "metadata": {},
   "outputs": [],
   "source": [
    "\n",
    "contact=[]\n",
    "website=[]\n",
    "rating=[]\n",
    "address=[]\n",
    "name=[]\n",
    "lat=[]\n",
    "lng=[]\n",
    "\n",
    "for d in id:\n",
    "    url=\"https://maps.googleapis.com/maps/api/place/details/json?placeid=\"+d+\"&key=\"+key\n",
    "    r=requests.get(url)\n",
    "    output=r.json()\n",
    "    \n",
    "    \n",
    "    # Collecting the Name, Address, Latitude, Longitude\n",
    "    name.append(output['result']['name'])\n",
    "    address.append(output['result']['formatted_address'])\n",
    "    lat.append(output['result']['geometry']['location']['lat'])\n",
    "    lng.append(output['result']['geometry']['location']['lng'])\n",
    "    \n",
    "     \n",
    "    # Collecting Contact, Website, Google Rating\n",
    "    if 'international_phone_number' in output['result'].keys():\n",
    "        contact.append(output['result']['international_phone_number'])\n",
    "    else:\n",
    "        contact.append(\"Not Available\")\n",
    "        \n",
    "    if 'website' in output['result'].keys():\n",
    "        website.append(output['result']['website']) #get website\n",
    "    else:\n",
    "        website.append(\"Not Available\")\n",
    "    \n",
    "    if 'rating' in output['result'].keys():\n",
    "        rating.append(output['result']['rating'])\n",
    "    else:\n",
    "        rating.append(\"Not Available\")\n",
    "\n"
   ]
  },
  {
   "cell_type": "markdown",
   "metadata": {},
   "source": [
    "And the final step, saving to a dataframe and onto a csv file."
   ]
  },
  {
   "cell_type": "code",
   "execution_count": null,
   "metadata": {},
   "outputs": [],
   "source": [
    "       \n",
    "df=pd.DataFrame()\n",
    "df[\"NAME\"]=name\n",
    "df[\"ADDRESS\"]=address\n",
    "df[\"LATITUDE\"]=lat\n",
    "df[\"LONGITUDE\"]=lng\n",
    "df[\"CONTACT No.\"]=contact\n",
    "df[\"WEBSITE\"]=website\n",
    "df[\"GOOGLE RATING\"]=rating\n",
    "       \n",
    "df.to_csv(\"Safespots_DelhiHospitals.csv\",index=None)"
   ]
  },
  {
   "cell_type": "markdown",
   "metadata": {},
   "source": [
    "#### The catch here is that often the same location/spot could appear as multiple results in our search, since they have multiple embeddings on the map. \n",
    "For example, 'Fortis Hospitals', 'Fortis Hospital', 'Fortis Hospital Gurgaon', 'Fortis Hospital Gurugram' etc. These would need to be proofread/validated."
   ]
  }
 ],
 "metadata": {
  "kernelspec": {
   "display_name": "Python 2",
   "language": "python",
   "name": "python2"
  },
  "language_info": {
   "codemirror_mode": {
    "name": "ipython",
    "version": 2
   },
   "file_extension": ".py",
   "mimetype": "text/x-python",
   "name": "python",
   "nbconvert_exporter": "python",
   "pygments_lexer": "ipython2",
   "version": "2.7.14"
  }
 },
 "nbformat": 4,
 "nbformat_minor": 2
}
